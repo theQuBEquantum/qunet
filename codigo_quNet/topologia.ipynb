{
 "cells": [
  {
   "cell_type": "code",
   "execution_count": 16,
   "id": "b5b02367",
   "metadata": {},
   "outputs": [],
   "source": [
    "import random\n",
    "import networkx as nx\n",
    "\n",
    "class No:\n",
    "    def __init__(self,_id, _latitude,_longitude,_borda=False):\n",
    "        ''' \n",
    "            Define um nó da rede.\n",
    "            \n",
    "            _id: string\n",
    "            _latitude: float\n",
    "            _longitude: float\n",
    "            _borda: boolean\n",
    "        '''\n",
    "        \n",
    "        self.id = _id\n",
    "        self.latitude = _latitude\n",
    "        self.longitude =_longitude\n",
    "        self.borda = _borda\n",
    "\n",
    "    \n",
    "    def getInfo(self):\n",
    "        \n",
    "        return {\"id\":self.id, \n",
    "                \"x\":self.latitude, \n",
    "                \"y\":self.longitude,\n",
    "                \"borda\":self.borda}   \n"
   ]
  },
  {
   "cell_type": "code",
   "execution_count": 21,
   "id": "effb26be",
   "metadata": {},
   "outputs": [],
   "source": [
    "\n",
    "\n",
    "class Canal:\n",
    "    def __init__(self, _porta, _tamanho, _material,_natureza, _tipo):\n",
    "        '''\n",
    "            Define as características do canal.\n",
    "            \n",
    "            _porta: int\n",
    "            _tamanho: float\n",
    "            _material:string\n",
    "            _natureza:string\n",
    "            _tipo: string\n",
    "        '''\n",
    "        self.porta = _porta\n",
    "        self.tamanho = _tamanho\n",
    "        self.material = _material\n",
    "        self.natureza = _natureza\n",
    "        self.tipo = _tipo\n",
    "        \n",
    "    def getInfo(self): \n",
    "        \n",
    "        return {\"porta\": self.porta,\n",
    "                 \"tamanho\":self.tamanho,\n",
    "                 \"material\": self.material,\n",
    "                 \"natureza\": self.natureza,\n",
    "                 \"tipo\": self.tipo}\n",
    " "
   ]
  },
  {
   "cell_type": "code",
   "execution_count": 109,
   "id": "e4612d7f",
   "metadata": {},
   "outputs": [],
   "source": [
    "   \n",
    "class Topologia:\n",
    "    '''\n",
    "        Responsável pela a construção da topologia, com seus nós e canais\n",
    "        \n",
    "        self.network: networkx\n",
    "        \n",
    "    '''\n",
    "    def __init__(self):\n",
    "        self.network = nx.MultiGraph()\n",
    "        \n",
    "    def addCanal(self,_origem,_destino, _canal):\n",
    "        '''\n",
    "            _origem:  No\n",
    "            _destino: No\n",
    "            _canal: Canal\n",
    "            \n",
    "        '''\n",
    "        self.network.add_edge(_origem, _destino, canal=_canal)\n",
    "\n",
    "    def getInfo(self):\n",
    "        json = {}\n",
    "        for x in self.network.edges.data():\n",
    "            if(x[2]['canal'].tipo in list(json)):\n",
    "                json[x[2]['canal'].tipo].append((x[0].id,x[1].id))\n",
    "            else:\n",
    "                json[x[2]['canal'].tipo] = [(x[0].id,x[1].id)]\n",
    "            print(json)\n",
    "          \n",
    "        return json\n",
    "\n",
    "\n"
   ]
  },
  {
   "cell_type": "code",
   "execution_count": 110,
   "id": "f9ff2e18",
   "metadata": {},
   "outputs": [],
   "source": [
    "a = No('A',3.4,32.4,False)\n",
    "b = No('B',43.4,5.4,False)\n",
    "c = No('C',5.4,8.4,False)\n",
    "d = No('D',8.4,23.4,False)"
   ]
  },
  {
   "cell_type": "code",
   "execution_count": 111,
   "id": "6ae60467",
   "metadata": {},
   "outputs": [],
   "source": [
    "# (self,origem, destino, porta,tamanho,material,natureza,tipo):\n",
    "\n",
    "ch1 = Canal(80,20,'fotons','quantica','wireless')\n",
    "ch2 = Canal(40,30,'cobre','classica','cabo')\n",
    "ch3 = Canal(40,10,'ondas eletromagnéticos','classica','satelite')\n",
    "ch4 = Canal(200,10,'fribra ótica','classica','cabo')\n",
    "ch5 = Canal(160,10,'cobre','classica','cabo')\n"
   ]
  },
  {
   "cell_type": "code",
   "execution_count": 112,
   "id": "d229975d",
   "metadata": {
    "scrolled": true
   },
   "outputs": [
    {
     "name": "stdout",
     "output_type": "stream",
     "text": [
      "{'wireless': [('A', 'B')]}\n",
      "{'wireless': [('A', 'B')], 'cabo': [('A', 'D')]}\n",
      "{'wireless': [('A', 'B')], 'cabo': [('A', 'D')], 'satelite': [('A', 'C')]}\n",
      "{'wireless': [('A', 'B')], 'cabo': [('A', 'D'), ('B', 'D')], 'satelite': [('A', 'C')]}\n",
      "{'wireless': [('A', 'B')], 'cabo': [('A', 'D'), ('B', 'D'), ('C', 'D')], 'satelite': [('A', 'C')]}\n"
     ]
    },
    {
     "data": {
      "text/plain": [
       "{'wireless': [('A', 'B')],\n",
       " 'cabo': [('A', 'D'), ('B', 'D'), ('C', 'D')],\n",
       " 'satelite': [('A', 'C')]}"
      ]
     },
     "execution_count": 112,
     "metadata": {},
     "output_type": "execute_result"
    }
   ],
   "source": [
    "\n",
    "t= Topologia()\n",
    "\n",
    "t.addCanal(a,b,ch1)\n",
    "t.addCanal(c,d,ch4)\n",
    "t.addCanal(a,d, ch2)\n",
    "t.addCanal(a,c, ch3)\n",
    "t.addCanal(b,d, ch4)\n",
    "\n",
    "\n",
    "t.getInfo()"
   ]
  },
  {
   "cell_type": "markdown",
   "id": "6ba542fe",
   "metadata": {},
   "source": [
    "{(769, 766, 'cl', 1 ): [{'id': 769, 'x': 3.4, 'y': 32.4, 'edge': False, 'neighborhood': [766]}, {'id': 766, 'x': 43.4, 'y': 5.4, 'edge': False, 'neighborhood': [769, 706]}], \n",
    " (769, 766, 'cl', 2): [{'id': 766, 'x': 43.4, 'y': 5.4, 'edge': False, 'neighborhood': [766]}, {'id': 769, 'x': 3.4, 'y': 32.4, 'edge': False, 'neighborhood': [769, 706]}], \n",
    " (769, 766, 'qu', 1): [{'id': 766, 'x': 43.4, 'y': 5.4, 'edge': False, 'neighborhood': [766]}, {'id': 769, 'x': 3.4, 'y': 32.4, 'edge': False, 'neighborhood': [769, 706]}], \n",
    " (766, 706, 'qu', 1): [{'id': 706, 'x': 5.4, 'y': 8.4, 'edge': False, 'neighborhood': [769, 706]}, {'id': 766, 'x': 43.4, 'y': 5.4, 'edge': False, 'neighborhood': [766, 868]}], \n",
    " (706, 868, 'cl', 1): [{'id': 868, 'x': 8.4, 'y': 23.4, 'edge': False, 'neighborhood': [766, 868]}, {'id': 706, 'x': 5.4, 'y': 8.4, 'edge': False, 'neighborhood': [706]}]}"
   ]
  },
  {
   "cell_type": "code",
   "execution_count": null,
   "id": "bb38b9d0",
   "metadata": {},
   "outputs": [],
   "source": []
  },
  {
   "cell_type": "code",
   "execution_count": null,
   "id": "302ceb41",
   "metadata": {},
   "outputs": [],
   "source": []
  },
  {
   "cell_type": "code",
   "execution_count": null,
   "id": "6cdec661",
   "metadata": {},
   "outputs": [],
   "source": []
  },
  {
   "cell_type": "code",
   "execution_count": null,
   "id": "32679213",
   "metadata": {},
   "outputs": [],
   "source": []
  },
  {
   "cell_type": "code",
   "execution_count": null,
   "id": "348ba4b3",
   "metadata": {},
   "outputs": [],
   "source": []
  },
  {
   "cell_type": "code",
   "execution_count": null,
   "id": "e7c3e0df",
   "metadata": {},
   "outputs": [],
   "source": []
  },
  {
   "cell_type": "code",
   "execution_count": null,
   "id": "55aace4b",
   "metadata": {},
   "outputs": [],
   "source": []
  },
  {
   "cell_type": "code",
   "execution_count": null,
   "id": "a5c58cd6",
   "metadata": {},
   "outputs": [],
   "source": []
  }
 ],
 "metadata": {
  "kernelspec": {
   "display_name": "Python 3 (ipykernel)",
   "language": "python",
   "name": "python3"
  },
  "language_info": {
   "codemirror_mode": {
    "name": "ipython",
    "version": 3
   },
   "file_extension": ".py",
   "mimetype": "text/x-python",
   "name": "python",
   "nbconvert_exporter": "python",
   "pygments_lexer": "ipython3",
   "version": "3.9.12"
  }
 },
 "nbformat": 4,
 "nbformat_minor": 5
}
